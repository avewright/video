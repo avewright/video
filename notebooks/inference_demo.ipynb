{
  "cells": [
    {
      "cell_type": "raw",
      "metadata": {
        "vscode": {
          "languageId": "raw"
        }
      },
      "source": [
        "# 🧾 Qwen2.5-VL Invoice OCR Inference Demo\n",
        "\n",
        "This notebook demonstrates how to use the fine-tuned Qwen2.5-VL model for invoice OCR and JSON extraction.\n"
      ]
    },
    {
      "cell_type": "code",
      "execution_count": null,
      "metadata": {},
      "outputs": [],
      "source": [
        "# Import required libraries\n",
        "import sys\n",
        "import os\n",
        "sys.path.append('..')\n",
        "\n",
        "from inference import QwenVLInvoiceProcessor\n",
        "from PIL import Image\n",
        "import json\n",
        "import matplotlib.pyplot as plt\n",
        "\n",
        "print(\"📚 Libraries imported successfully!\")\n"
      ]
    }
  ],
  "metadata": {
    "language_info": {
      "name": "python"
    }
  },
  "nbformat": 4,
  "nbformat_minor": 2
}

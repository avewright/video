{
  "cells": [
    {
      "cell_type": "raw",
      "metadata": {
        "vscode": {
          "languageId": "raw"
        }
      },
      "source": [
        "# 📊 Dataset Exploration for Invoice OCR\n",
        "\n",
        "This notebook explores the `mychen76/invoices-and-receipts_ocr_v1` dataset to understand its structure and content.\n"
      ]
    },
    {
      "cell_type": "code",
      "execution_count": null,
      "metadata": {},
      "outputs": [],
      "source": [
        "# Import required libraries\n",
        "import os\n",
        "import json\n",
        "import pandas as pd\n",
        "import matplotlib.pyplot as plt\n",
        "import seaborn as sns\n",
        "from datasets import load_dataset\n",
        "from PIL import Image\n",
        "from collections import Counter\n",
        "import numpy as np\n",
        "\n",
        "# Set up plotting style\n",
        "plt.style.use('seaborn-v0_8')\n",
        "sns.set_palette(\"husl\")\n",
        "\n",
        "print(\"📚 Libraries imported successfully!\")\n"
      ]
    },
    {
      "cell_type": "raw",
      "metadata": {
        "vscode": {
          "languageId": "raw"
        }
      },
      "source": [
        "## 1. Load the Dataset\n",
        "\n",
        "First, let's load the invoice OCR dataset and examine its basic structure.\n"
      ]
    },
    {
      "cell_type": "code",
      "execution_count": null,
      "metadata": {},
      "outputs": [],
      "source": [
        "# Load the dataset\n",
        "print(\"📥 Loading dataset...\")\n",
        "dataset = load_dataset(\"mychen76/invoices-and-receipts_ocr_v1\")\n",
        "\n",
        "# Display dataset info\n",
        "print(f\"Dataset: {dataset}\")\n",
        "print(f\"\\nAvailable splits: {list(dataset.keys())}\")\n",
        "\n",
        "# Get the training split\n",
        "train_dataset = dataset['train']\n",
        "print(f\"\\nTraining examples: {len(train_dataset)}\")\n",
        "print(f\"Features: {train_dataset.features}\")\n"
      ]
    }
  ],
  "metadata": {
    "language_info": {
      "name": "python"
    }
  },
  "nbformat": 4,
  "nbformat_minor": 2
}
